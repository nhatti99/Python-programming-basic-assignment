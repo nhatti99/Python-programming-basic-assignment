{
 "cells": [
  {
   "cell_type": "code",
   "execution_count": 9,
   "metadata": {},
   "outputs": [
    {
     "name": "stdout",
     "output_type": "stream",
     "text": [
      "Enter D value : 100,150,180\n",
      "[18, 22, 24]\n"
     ]
    }
   ],
   "source": [
    "#1 Write a program that calculates and prints the value according to the given formula:\n",
    "#Q = Square root of [(2 * C * D)/H]\n",
    "#Following are the fixed values of C and H:\n",
    "#C is 50. H is 30.\n",
    "#D is the variable whose values should be input to your program in a comma-separated sequence.\n",
    "#Example\n",
    "#Let us assume the following comma separated input sequence is given to the program:\n",
    "#100,150,180\n",
    "#The output of the program should be:\n",
    "#18,22,24\n",
    "\n",
    "import math\n",
    "value = input(\"Enter D value : \")\n",
    "value = value.split(',')\n",
    "\n",
    "l = []\n",
    "C = 50\n",
    "H = 30\n",
    "for D in value:\n",
    "    Q = round(math.sqrt(2*C*int(D)/H))\n",
    "    l.append(Q)\n",
    "    \n",
    "print(l)"
   ]
  },
  {
   "cell_type": "code",
   "execution_count": 11,
   "metadata": {},
   "outputs": [
    {
     "name": "stdout",
     "output_type": "stream",
     "text": [
      "Input number of rows: 3\n",
      "Input number of columns: 5\n",
      "[[0, 0, 0, 0, 0], [0, 1, 2, 3, 4], [0, 2, 4, 6, 8]]\n"
     ]
    }
   ],
   "source": [
    "#2 Write a program which takes 2 digits, X,Y as input and generates a 2-dimensional array. The \n",
    "#element value in the i-th row and j-th column of the array should be i*j.\n",
    "#Note: i=0,1.., X-1; j=0,1,¡Y-1.\n",
    "#Example\n",
    "#Suppose the following inputs are given to the program:\n",
    "#3,5\n",
    "#Then, the output of the program should be:\n",
    "#[[0, 0, 0, 0, 0], [0, 1, 2, 3, 4], [0, 2, 4, 6, 8]]\n",
    "\n",
    "\n",
    "row_num = int(input(\"Input number of rows: \"))\n",
    "col_num = int(input(\"Input number of columns: \"))\n",
    "multi_list = [[0 for col in range(col_num)] for row in range(row_num)]\n",
    "\n",
    "for row in range(row_num):\n",
    "    for col in range(col_num):\n",
    "        multi_list[row][col]= row*col\n",
    "\n",
    "print(multi_list)\n"
   ]
  },
  {
   "cell_type": "code",
   "execution_count": 16,
   "metadata": {},
   "outputs": [
    {
     "name": "stdout",
     "output_type": "stream",
     "text": [
      "Input words: without, hello, bag, world\n",
      " bag,  hello,  world, without\n"
     ]
    }
   ],
   "source": [
    "#3 Write a program that accepts a comma separated sequence of words as input and prints the\n",
    "#words in a comma-separated sequence after sorting them alphabetically.\n",
    "#Suppose the following input is supplied to the program:\n",
    "#without,hello,bag,world\n",
    "#Then, the output should be:\n",
    "#bag,hello,without,world\n",
    "\n",
    "words = input(\"Input words: \")\n",
    "\n",
    "words_list = words.split(\",\")\n",
    "\n",
    "words_list.sort()\n",
    "print((', ').join(words_list))"
   ]
  },
  {
   "cell_type": "code",
   "execution_count": 19,
   "metadata": {},
   "outputs": [
    {
     "name": "stdout",
     "output_type": "stream",
     "text": [
      "Input words : hello world and practice makes perfect and hello world again\n",
      "['again', 'and', 'hello', 'makes', 'perfect', 'practice', 'world']\n"
     ]
    }
   ],
   "source": [
    "#4 Write a program that accepts a sequence of whitespace separated words as input and prints\n",
    "#the words after removing all duplicate words and sorting them alphanumerically.\n",
    "#Suppose the following input is supplied to the program:\n",
    "#hello world and practice makes perfect and hello world again\n",
    "#Then, the output should be:\n",
    "#again and hello makes perfect practice world\n",
    "\n",
    "words = input('Input words : ')\n",
    "words_split = words.split(' ')\n",
    "\n",
    "word_list = []\n",
    "for i in words_split:\n",
    "    if i not in word_list:\n",
    "        word_list.append(i)\n",
    "        continue\n",
    "        \n",
    "word_list.sort()\n",
    "print(word_list)"
   ]
  },
  {
   "cell_type": "code",
   "execution_count": 23,
   "metadata": {},
   "outputs": [
    {
     "name": "stdout",
     "output_type": "stream",
     "text": [
      "Enter String : hello world! 123\n",
      "Letters 13\n",
      "Digits 3\n"
     ]
    }
   ],
   "source": [
    "#5 Write a program that accepts a sentence and calculate the number of letters and digits.\n",
    "#Suppose the following input is supplied to the program:\n",
    "#hello world! 123\n",
    "#Then, the output should be:\n",
    "#LETTERS 10\n",
    "\n",
    "s = input(\"Enter String : \")\n",
    "\n",
    "d = l = 0\n",
    "\n",
    "for i in s:\n",
    "    if i.isdigit():\n",
    "        d=d+1\n",
    "    elif i.isalpha:\n",
    "        l=l+1\n",
    "    else :\n",
    "        pass\n",
    "\n",
    "print(\"Letters\", l)\n",
    "print(\"Digits\", d)"
   ]
  },
  {
   "cell_type": "code",
   "execution_count": 3,
   "metadata": {},
   "outputs": [
    {
     "name": "stdout",
     "output_type": "stream",
     "text": [
      "Type in: ABd1234@1,a F1#,2w3E*,2We3345\n",
      "ABd1234@1\n"
     ]
    }
   ],
   "source": [
    "#6 A website requires the users to input username and password to register. Write a program to\n",
    "#check the validity of password input by users.\n",
    "#Following are the criteria for checking the password:\n",
    "#1. At least 1 letter between [a-z]\n",
    "#2. At least 1 number between [0-9]\n",
    "#1. At least 1 letter between [A-Z]\n",
    "#3. At least 1 character from [$#@]\n",
    "#4. Minimum length of transaction password: 6\n",
    "#5. Maximum length of transaction password: 12\n",
    "#Your program should accept a sequence of comma separated passwords and will check them\n",
    "#according to the above criteria. Passwords that match the criteria are to be printed, each\n",
    "#separated by a comma.\n",
    "#Example\n",
    "#If the following passwords are given as input to the program:\n",
    "#ABd1234@1,a F1#,2w3E*,2We3345\n",
    "#Then, the output of the program should be:\n",
    "#ABd1234@1\n",
    "\n",
    "import re\n",
    "\n",
    "passwords = input(\"Type in: \")\n",
    "passwords = passwords.split(\",\")\n",
    "\n",
    "accepted_pass = []\n",
    "for i in passwords:\n",
    "    \n",
    "    if len(i) < 6 or len(i) > 12:\n",
    "        continue\n",
    "\n",
    "    elif not re.search(\"([a-z])+\", i):\n",
    "        continue\n",
    "\n",
    "    elif not re.search(\"([A-Z])+\", i):\n",
    "        continue\n",
    "\n",
    "    elif not re.search(\"([0-9])+\", i):\n",
    "        continue\n",
    "\n",
    "    elif not re.search(\"([!@$%^&])+\", i):\n",
    "        continue\n",
    "\n",
    "    else:\n",
    "        accepted_pass.append(i)\n",
    "\n",
    "print((\" \").join(accepted_pass))"
   ]
  },
  {
   "cell_type": "code",
   "execution_count": null,
   "metadata": {},
   "outputs": [],
   "source": []
  }
 ],
 "metadata": {
  "kernelspec": {
   "display_name": "Python 3",
   "language": "python",
   "name": "python3"
  },
  "language_info": {
   "codemirror_mode": {
    "name": "ipython",
    "version": 3
   },
   "file_extension": ".py",
   "mimetype": "text/x-python",
   "name": "python",
   "nbconvert_exporter": "python",
   "pygments_lexer": "ipython3",
   "version": "3.8.3"
  }
 },
 "nbformat": 4,
 "nbformat_minor": 4
}
