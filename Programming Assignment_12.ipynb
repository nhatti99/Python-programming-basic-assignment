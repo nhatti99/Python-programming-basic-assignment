{
 "cells": [
  {
   "cell_type": "code",
   "execution_count": 2,
   "metadata": {},
   "outputs": [
    {
     "name": "stdout",
     "output_type": "stream",
     "text": [
      "The original dictionary is : {'gfg': [5, 6, 7, 8], 'is': [10, 11, 7, 5], 'best': [6, 12, 10, 8], 'for': [1, 2, 5]}\n",
      "The unique values list is : [1, 2, 5, 6, 7, 8, 10, 11, 12]\n"
     ]
    }
   ],
   "source": [
    "#1 Write a Python program to Extract Unique values dictionary values?\n",
    "\n",
    "from itertools import chain\n",
    "  \n",
    "# initializing dictionary\n",
    "test_dict = {'gfg' : [5, 6, 7, 8],\n",
    "             'is' : [10, 11, 7, 5],\n",
    "             'best' : [6, 12, 10, 8],\n",
    "             'for' : [1, 2, 5]}\n",
    "  \n",
    "# printing original dictionary\n",
    "print(\"The original dictionary is : \" + str(test_dict))\n",
    "  \n",
    "# Extract Unique values dictionary values\n",
    "# Using chain() + sorted() + values()\n",
    "res = list(sorted(set(chain(*test_dict.values()))))\n",
    "  \n",
    "# printing result \n",
    "print(\"The unique values list is : \" + str(res))"
   ]
  },
  {
   "cell_type": "code",
   "execution_count": 3,
   "metadata": {},
   "outputs": [
    {
     "data": {
      "text/plain": [
       "600"
      ]
     },
     "execution_count": 3,
     "metadata": {},
     "output_type": "execute_result"
    }
   ],
   "source": [
    "#2 Write a Python program to find the sum of all items in a dictionary?\n",
    "\n",
    "def retrunsum(dict):\n",
    "    sum = 0\n",
    "    for i in dict.values():\n",
    "        sum = sum + i\n",
    "    return sum\n",
    "\n",
    "dict = {'a': 100, 'b':200, 'c':300}\n",
    "retrunsum(dict)"
   ]
  },
  {
   "cell_type": "code",
   "execution_count": 4,
   "metadata": {},
   "outputs": [
    {
     "data": {
      "text/plain": [
       "{'a': 1, 'b': 3, 'c': 5, 'd': 9}"
      ]
     },
     "execution_count": 4,
     "metadata": {},
     "output_type": "execute_result"
    }
   ],
   "source": [
    "#3 Write a Python program to Merging two Dictionaries?\n",
    "\n",
    "def merge(dict1, dict2):\n",
    "    res = {**dict1, **dict2}\n",
    "    return res\n",
    "\n",
    "dict1 = {'a':1, 'b':3}\n",
    "dict2 = {'c':5, 'd':9}\n",
    "merge(dict1, dict2)"
   ]
  },
  {
   "cell_type": "code",
   "execution_count": 30,
   "metadata": {},
   "outputs": [
    {
     "name": "stdout",
     "output_type": "stream",
     "text": [
      "The original dictionary is : {'month': [1, 2, 3], 'name': ['Jan', 'Feb', 'March']}\n",
      "Flattened dictionary : [(1, 'Jan'), (2, 'Feb'), (3, 'March')]\n"
     ]
    }
   ],
   "source": [
    "#4 Write a Python program to convert key-values list to flat dictionary?\n",
    "\n",
    "from itertools import product\n",
    "  \n",
    "# initializing dictionary\n",
    "test_dict = {'month' : [1, 2, 3],\n",
    "             'name' : ['Jan', 'Feb', 'March']}\n",
    "  \n",
    "# printing original dictionary\n",
    "print(\"The original dictionary is : \" + str(test_dict))\n",
    "  \n",
    "# Convert key-values list to flat dictionary\n",
    "# Using dict() + zip()\n",
    "res = list(zip(test_dict['month'], test_dict['name'])) \n",
    "\n",
    "# printing result \n",
    "print(\"Flattened dictionary : \" + str(res))"
   ]
  },
  {
   "cell_type": "code",
   "execution_count": 9,
   "metadata": {},
   "outputs": [
    {
     "name": "stdout",
     "output_type": "stream",
     "text": [
      "Resulatant Dictionary :  OrderedDict([('manjeet', '3'), ('akshat', '1'), ('nikhil', '2')])\n"
     ]
    }
   ],
   "source": [
    "#5 Write a Python program to insertion at the beginning in OrderedDict?\n",
    "\n",
    "from collections import OrderedDict\n",
    "\n",
    "inordered_dict = OrderedDict([('akshat', '1'), ('nikhil', '2')])\n",
    "inordered_dict.update({'manjeet':'3'})\n",
    "inordered_dict.move_to_end('manjeet', last=False)\n",
    "\n",
    "print(\"Resulatant Dictionary : \", inordered_dict)"
   ]
  },
  {
   "cell_type": "code",
   "execution_count": 10,
   "metadata": {},
   "outputs": [
    {
     "name": "stdout",
     "output_type": "stream",
     "text": [
      "true\n"
     ]
    }
   ],
   "source": [
    "#6 Write a Python program to check order of character in string using OrderedDict()?\n",
    "\n",
    "from collections import OrderedDict \n",
    "  \n",
    "def checkOrder(input, pattern): \n",
    "      \n",
    "    # create empty OrderedDict \n",
    "    # output will be like {'a': None,'b': None, 'c': None} \n",
    "    dict = OrderedDict.fromkeys(input) \n",
    "  \n",
    "    # traverse generated OrderedDict parallel with \n",
    "    # pattern string to check if order of characters \n",
    "    # are same or not \n",
    "    ptrlen = 0\n",
    "    for key,value in dict.items(): \n",
    "        if (key == pattern[ptrlen]): \n",
    "            ptrlen = ptrlen + 1\n",
    "          \n",
    "        # check if we have traverse complete \n",
    "        # pattern string \n",
    "        if (ptrlen == (len(pattern))): \n",
    "            return 'true'\n",
    "  \n",
    "    # if we come out from for loop that means \n",
    "    # order was mismatched \n",
    "    return 'false'\n",
    "\n",
    "if __name__ == \"__main__\": \n",
    "    input = 'engineers rock'\n",
    "    pattern = 'egr'\n",
    "    print (checkOrder(input,pattern))"
   ]
  },
  {
   "cell_type": "code",
   "execution_count": 11,
   "metadata": {},
   "outputs": [
    {
     "name": "stdout",
     "output_type": "stream",
     "text": [
      "Task 1:-\n",
      "\n",
      "Keys are\n",
      "1 2 3 4 5 6 "
     ]
    }
   ],
   "source": [
    "#7 Write a Python program to sort Python Dictionaries by Key or Value?\n",
    "\n",
    "def dictionairy():\n",
    " # Declare hash function     \n",
    " key_value ={}   \n",
    " \n",
    "# Initializing value\n",
    " key_value[2] = 56      \n",
    " key_value[1] = 2\n",
    " key_value[5] = 12\n",
    " key_value[4] = 24\n",
    " key_value[6] = 18     \n",
    " key_value[3] = 323\n",
    " \n",
    " print (\"Task 1:-\\n\")\n",
    " print (\"Keys are\")\n",
    "  \n",
    " # iterkeys() returns an iterator over the\n",
    " # dictionary’s keys.\n",
    " for i in sorted (key_value.keys()) :\n",
    "     print(i, end = \" \")\n",
    " \n",
    "def main():\n",
    "    # function calling\n",
    "    dictionairy()            \n",
    "     \n",
    "# Main function calling\n",
    "if __name__==\"__main__\":     \n",
    "    main()"
   ]
  },
  {
   "cell_type": "code",
   "execution_count": null,
   "metadata": {},
   "outputs": [],
   "source": []
  }
 ],
 "metadata": {
  "kernelspec": {
   "display_name": "Python 3",
   "language": "python",
   "name": "python3"
  },
  "language_info": {
   "codemirror_mode": {
    "name": "ipython",
    "version": 3
   },
   "file_extension": ".py",
   "mimetype": "text/x-python",
   "name": "python",
   "nbconvert_exporter": "python",
   "pygments_lexer": "ipython3",
   "version": "3.8.3"
  }
 },
 "nbformat": 4,
 "nbformat_minor": 4
}
